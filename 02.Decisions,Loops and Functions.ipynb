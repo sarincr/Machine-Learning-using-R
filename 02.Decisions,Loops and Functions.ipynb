{
 "cells": [
  {
   "cell_type": "code",
   "execution_count": 3,
   "metadata": {},
   "outputs": [],
   "source": [
    "x=10L"
   ]
  },
  {
   "cell_type": "code",
   "execution_count": 4,
   "metadata": {},
   "outputs": [
    {
     "name": "stdout",
     "output_type": "stream",
     "text": [
      "[1] \"X is an Integer\"\n"
     ]
    }
   ],
   "source": [
    "if(is.integer(x)) \n",
    "{\n",
    "   print(\"X is an Integer\")\n",
    "}"
   ]
  },
  {
   "cell_type": "code",
   "execution_count": 1,
   "metadata": {},
   "outputs": [
    {
     "name": "stdout",
     "output_type": "stream",
     "text": [
      "[1] \"One line executed\"\n"
     ]
    }
   ],
   "source": [
    "if (TRUE) print (\"One line executed\")"
   ]
  },
  {
   "cell_type": "code",
   "execution_count": 2,
   "metadata": {},
   "outputs": [
    {
     "ename": "ERROR",
     "evalue": "Error in if (NA) print(\"Don't know whether true or not!\"): missing value where TRUE/FALSE needed\n",
     "output_type": "error",
     "traceback": [
      "Error in if (NA) print(\"Don't know whether true or not!\"): missing value where TRUE/FALSE needed\nTraceback:\n"
     ]
    }
   ],
   "source": [
    "if (NA) print (\"Don't know whether true or not!\")"
   ]
  },
  {
   "cell_type": "code",
   "execution_count": 3,
   "metadata": {},
   "outputs": [
    {
     "name": "stdout",
     "output_type": "stream",
     "text": [
      "[1] \"This will execute...\"\n"
     ]
    }
   ],
   "source": [
    "if (TRUE)\n",
    "{\n",
    "print (\"This will execute...\")\n",
    "} else\n",
    "{\n",
    "print (\"but this will not.\")\n",
    "}"
   ]
  },
  {
   "cell_type": "code",
   "execution_count": 4,
   "metadata": {},
   "outputs": [
    {
     "name": "stdout",
     "output_type": "stream",
     "text": [
      "[1] \"Positive number\"\n"
     ]
    }
   ],
   "source": [
    "x <- 5\n",
    "if(x > 0){\n",
    "print(\"Positive number\")\n",
    "}"
   ]
  },
  {
   "cell_type": "code",
   "execution_count": 5,
   "metadata": {},
   "outputs": [
    {
     "name": "stdout",
     "output_type": "stream",
     "text": [
      "[1] \"Negative number\"\n"
     ]
    }
   ],
   "source": [
    "x <- -5\n",
    "if(x > 0){\n",
    "print(\"Non-negative number\")\n",
    "} else {\n",
    "print(\"Negative number\")\n",
    "}"
   ]
  },
  {
   "cell_type": "code",
   "execution_count": 6,
   "metadata": {},
   "outputs": [
    {
     "name": "stdout",
     "output_type": "stream",
     "text": [
      "Enter a number: 2\n",
      "[1] \"Non-negative number\"\n"
     ]
    }
   ],
   "source": [
    "x <- readline(prompt=\"Enter a number: \")\n",
    "if(x > 0)\n",
    "{\n",
    "print(\"Non-negative number\")\n",
    "} else {\n",
    "print(\"Negative number\")\n",
    "}"
   ]
  },
  {
   "cell_type": "code",
   "execution_count": 7,
   "metadata": {},
   "outputs": [
    {
     "name": "stdout",
     "output_type": "stream",
     "text": [
      "Enter a number: -2\n",
      "[1] \"Negative number\"\n"
     ]
    }
   ],
   "source": [
    "x <- readline(prompt=\"Enter a number: \")\n",
    "if(x > 0)\n",
    "{\n",
    "print(\"Non-negative number\")\n",
    "} else {\n",
    "print(\"Negative number\")\n",
    "}"
   ]
  },
  {
   "cell_type": "code",
   "execution_count": 8,
   "metadata": {},
   "outputs": [
    {
     "name": "stdout",
     "output_type": "stream",
     "text": [
      "Enter a number: 0\n",
      "[1] \"Zero\"\n"
     ]
    }
   ],
   "source": [
    "x <- readline(prompt=\"Enter a number: \")\n",
    "if (x < 0) {\n",
    "print(\"Negative number\")\n",
    "} else if (x > 0) {\n",
    "print(\"Positive number\")\n",
    "} else\n",
    "print(\"Zero\")"
   ]
  },
  {
   "cell_type": "code",
   "execution_count": 9,
   "metadata": {},
   "outputs": [
    {
     "name": "stdout",
     "output_type": "stream",
     "text": [
      "Enter a number: 20\n",
      "[1] \"The factorial of 20 is 2432902008176640000\"\n"
     ]
    }
   ],
   "source": [
    "num = as.integer(readline(prompt=\"Enter a number: \"))\n",
    "factorial = 1\n",
    "if(num < 0) {\n",
    "print(\"Sorry, factorial does not exist for negative numbers\")\n",
    "} else if(num == 0) {\n",
    "print(\"The factorial of 0 is 1\")\n",
    "} else {\n",
    "for(i in 1:num) {\n",
    "factorial = factorial * i\n",
    "}\n",
    "print(paste(\"The factorial of\", num ,\"is\",factorial))\n",
    "}"
   ]
  },
  {
   "cell_type": "code",
   "execution_count": 10,
   "metadata": {},
   "outputs": [],
   "source": [
    "a = c(5,7,2,9)"
   ]
  },
  {
   "cell_type": "code",
   "execution_count": 11,
   "metadata": {},
   "outputs": [
    {
     "data": {
      "text/html": [
       "<ol class=list-inline>\n",
       "\t<li>'odd'</li>\n",
       "\t<li>'odd'</li>\n",
       "\t<li>'even'</li>\n",
       "\t<li>'odd'</li>\n",
       "</ol>\n"
      ],
      "text/latex": [
       "\\begin{enumerate*}\n",
       "\\item 'odd'\n",
       "\\item 'odd'\n",
       "\\item 'even'\n",
       "\\item 'odd'\n",
       "\\end{enumerate*}\n"
      ],
      "text/markdown": [
       "1. 'odd'\n",
       "2. 'odd'\n",
       "3. 'even'\n",
       "4. 'odd'\n",
       "\n",
       "\n"
      ],
      "text/plain": [
       "[1] \"odd\"  \"odd\"  \"even\" \"odd\" "
      ]
     },
     "metadata": {},
     "output_type": "display_data"
    }
   ],
   "source": [
    "ifelse(a %% 2 == 0,\"even\",\"odd\")"
   ]
  },
  {
   "cell_type": "code",
   "execution_count": 12,
   "metadata": {},
   "outputs": [],
   "source": [
    "x <- c(2,5,3,9,8,11,6)\n",
    "count <- 0"
   ]
  },
  {
   "cell_type": "code",
   "execution_count": 15,
   "metadata": {},
   "outputs": [
    {
     "name": "stdout",
     "output_type": "stream",
     "text": [
      "[1] 1\n",
      "[1] 2\n",
      "[1] 3\n"
     ]
    }
   ],
   "source": [
    "for (val in x) \n",
    "{\n",
    "if(val %% 2 == 0)\n",
    "{\n",
    "    count = count+1\n",
    "    print(count)\n",
    "}\n",
    "}"
   ]
  },
  {
   "cell_type": "code",
   "execution_count": 16,
   "metadata": {},
   "outputs": [
    {
     "name": "stdout",
     "output_type": "stream",
     "text": [
      "[1] 1\n",
      "[1] 2\n",
      "[1] 3\n",
      "[1] 4\n",
      "[1] 5\n"
     ]
    }
   ],
   "source": [
    "i <- 1\n",
    "while (i < 6) {\n",
    "print(i)\n",
    "i = i+1\n",
    "}"
   ]
  },
  {
   "cell_type": "code",
   "execution_count": 17,
   "metadata": {},
   "outputs": [
    {
     "name": "stdout",
     "output_type": "stream",
     "text": [
      "Enter a number: 10\n",
      "[1] \"10 x 1 = 10\"\n",
      "[1] \"10 x 2 = 20\"\n",
      "[1] \"10 x 3 = 30\"\n",
      "[1] \"10 x 4 = 40\"\n",
      "[1] \"10 x 5 = 50\"\n",
      "[1] \"10 x 6 = 60\"\n",
      "[1] \"10 x 7 = 70\"\n",
      "[1] \"10 x 8 = 80\"\n",
      "[1] \"10 x 9 = 90\"\n",
      "[1] \"10 x 10 = 100\"\n"
     ]
    }
   ],
   "source": [
    "num = as.integer(readline(prompt = \"Enter a number: \"))\n",
    "for(i in 1:10) \n",
    "{\n",
    "print(paste(num,'x', i, '=', num*i))\n",
    "}"
   ]
  },
  {
   "cell_type": "code",
   "execution_count": 18,
   "metadata": {},
   "outputs": [
    {
     "name": "stdout",
     "output_type": "stream",
     "text": [
      "[1] 1\n",
      "[1] 2\n"
     ]
    }
   ],
   "source": [
    "x <- 1:5\n",
    "for (val in x) {\n",
    "if (val == 3){\n",
    "break\n",
    "}\n",
    "print(val)\n",
    "}"
   ]
  },
  {
   "cell_type": "code",
   "execution_count": 19,
   "metadata": {},
   "outputs": [
    {
     "name": "stdout",
     "output_type": "stream",
     "text": [
      "[1] 1\n",
      "[1] 2\n",
      "[1] 4\n",
      "[1] 5\n"
     ]
    }
   ],
   "source": [
    "x <- 1:5\n",
    "for (val in x) {\n",
    "if (val == 3){\n",
    "next\n",
    "}\n",
    "print(val)\n",
    "}"
   ]
  },
  {
   "cell_type": "code",
   "execution_count": 21,
   "metadata": {},
   "outputs": [
    {
     "name": "stdout",
     "output_type": "stream",
     "text": [
      "Enter a number: 20\n",
      "[1] \"20 is not a prime number\"\n"
     ]
    }
   ],
   "source": [
    "num = as.integer(readline(prompt=\"Enter a number: \"))\n",
    "flag = 0\n",
    "\n",
    "if(num > 1) {\n",
    "\n",
    "flag = 1\n",
    "for(i in 2:(num-1)) {\n",
    "if ((num %% i) == 0) {\n",
    "flag = 0\n",
    "break\n",
    "}\n",
    "}\n",
    "} \n",
    "if(num == 2)    flag = 1\n",
    "if(flag == 1) {\n",
    "print(paste(num,\"is a prime number\"))\n",
    "} else {\n",
    "print(paste(num,\"is not a prime number\"))\n",
    "}\n"
   ]
  },
  {
   "cell_type": "code",
   "execution_count": 22,
   "metadata": {},
   "outputs": [
    {
     "name": "stdout",
     "output_type": "stream",
     "text": [
      "[1] 1\n",
      "[1] 2\n",
      "[1] 3\n",
      "[1] 4\n",
      "[1] 5\n"
     ]
    }
   ],
   "source": [
    "x <- 1\n",
    "repeat {\n",
    "print(x)\n",
    "x = x+1\n",
    "if (x == 6){\n",
    "break\n",
    "}\n",
    "}"
   ]
  },
  {
   "cell_type": "code",
   "execution_count": 24,
   "metadata": {},
   "outputs": [],
   "source": [
    "pow <- function(x, y) \n",
    "{\n",
    "result <- x^y\n",
    "print(paste(x,\"raised to the power\", y, \"is\", result))\n",
    "}"
   ]
  },
  {
   "cell_type": "code",
   "execution_count": 25,
   "metadata": {},
   "outputs": [
    {
     "name": "stdout",
     "output_type": "stream",
     "text": [
      "[1] \"1 raised to the power 2 is 1\"\n"
     ]
    }
   ],
   "source": [
    "pow(1,2)"
   ]
  },
  {
   "cell_type": "code",
   "execution_count": 26,
   "metadata": {},
   "outputs": [
    {
     "name": "stdout",
     "output_type": "stream",
     "text": [
      "[1] \"2 raised to the power 8 is 256\"\n"
     ]
    }
   ],
   "source": [
    "pow(2, 8)"
   ]
  },
  {
   "cell_type": "code",
   "execution_count": 27,
   "metadata": {},
   "outputs": [
    {
     "data": {
      "text/html": [
       "40320"
      ],
      "text/latex": [
       "40320"
      ],
      "text/markdown": [
       "40320"
      ],
      "text/plain": [
       "[1] 40320"
      ]
     },
     "metadata": {},
     "output_type": "display_data"
    }
   ],
   "source": [
    "factorial(8)\n"
   ]
  },
  {
   "cell_type": "code",
   "execution_count": 28,
   "metadata": {},
   "outputs": [],
   "source": [
    "check <- function(x) {\n",
    "if (x > 0) {\n",
    "result <- \"Positive\"\n",
    "}\n",
    "else if (x < 0) {\n",
    "result <- \"Negative\"\n",
    "}\n",
    "else {\n",
    "result <- \"Zero\"\n",
    "}\n",
    "return(result)\n",
    "}\n"
   ]
  },
  {
   "cell_type": "code",
   "execution_count": 29,
   "metadata": {},
   "outputs": [
    {
     "data": {
      "text/html": [
       "'Positive'"
      ],
      "text/latex": [
       "'Positive'"
      ],
      "text/markdown": [
       "'Positive'"
      ],
      "text/plain": [
       "[1] \"Positive\""
      ]
     },
     "metadata": {},
     "output_type": "display_data"
    }
   ],
   "source": [
    "check(1)"
   ]
  },
  {
   "cell_type": "code",
   "execution_count": 30,
   "metadata": {},
   "outputs": [
    {
     "data": {
      "text/html": [
       "'Negative'"
      ],
      "text/latex": [
       "'Negative'"
      ],
      "text/markdown": [
       "'Negative'"
      ],
      "text/plain": [
       "[1] \"Negative\""
      ]
     },
     "metadata": {},
     "output_type": "display_data"
    }
   ],
   "source": [
    "check(-1)"
   ]
  },
  {
   "cell_type": "code",
   "execution_count": 31,
   "metadata": {},
   "outputs": [],
   "source": [
    "check <- function(x) {\n",
    "if (x > 0) {\n",
    "result <- \"Positive\"\n",
    "}\n",
    "else if (x < 0) {\n",
    "result <- \"Negative\"\n",
    "}\n",
    "else {\n",
    "result <- \"Zero\"\n",
    "}\n",
    "result\n",
    "}\n"
   ]
  },
  {
   "cell_type": "code",
   "execution_count": 32,
   "metadata": {},
   "outputs": [
    {
     "data": {
      "text/html": [
       "'Positive'"
      ],
      "text/latex": [
       "'Positive'"
      ],
      "text/markdown": [
       "'Positive'"
      ],
      "text/plain": [
       "[1] \"Positive\""
      ]
     },
     "metadata": {},
     "output_type": "display_data"
    }
   ],
   "source": [
    "check(10)"
   ]
  },
  {
   "cell_type": "code",
   "execution_count": 33,
   "metadata": {},
   "outputs": [],
   "source": [
    "multi_return <- function() {\n",
    "my_list <- list(\"color\" = \"red\", \"size\" = 20, \"shape\" = \"round\")\n",
    "return(my_list) \n",
    "}"
   ]
  },
  {
   "cell_type": "code",
   "execution_count": 34,
   "metadata": {},
   "outputs": [],
   "source": [
    "a <- multi_return()"
   ]
  },
  {
   "cell_type": "code",
   "execution_count": 35,
   "metadata": {},
   "outputs": [
    {
     "data": {
      "text/html": [
       "<dl>\n",
       "\t<dt>$color</dt>\n",
       "\t\t<dd>'red'</dd>\n",
       "\t<dt>$size</dt>\n",
       "\t\t<dd>20</dd>\n",
       "\t<dt>$shape</dt>\n",
       "\t\t<dd>'round'</dd>\n",
       "</dl>\n"
      ],
      "text/latex": [
       "\\begin{description}\n",
       "\\item[\\$color] 'red'\n",
       "\\item[\\$size] 20\n",
       "\\item[\\$shape] 'round'\n",
       "\\end{description}\n"
      ],
      "text/markdown": [
       "$color\n",
       ":   'red'\n",
       "$size\n",
       ":   20\n",
       "$shape\n",
       ":   'round'\n",
       "\n",
       "\n"
      ],
      "text/plain": [
       "$color\n",
       "[1] \"red\"\n",
       "\n",
       "$size\n",
       "[1] 20\n",
       "\n",
       "$shape\n",
       "[1] \"round\"\n"
      ]
     },
     "metadata": {},
     "output_type": "display_data"
    }
   ],
   "source": [
    "a"
   ]
  },
  {
   "cell_type": "code",
   "execution_count": 36,
   "metadata": {},
   "outputs": [
    {
     "data": {
      "text/html": [
       "'red'"
      ],
      "text/latex": [
       "'red'"
      ],
      "text/markdown": [
       "'red'"
      ],
      "text/plain": [
       "[1] \"red\""
      ]
     },
     "metadata": {},
     "output_type": "display_data"
    }
   ],
   "source": [
    "a$color"
   ]
  },
  {
   "cell_type": "code",
   "execution_count": 37,
   "metadata": {},
   "outputs": [],
   "source": [
    "f <- function(f_x){\n",
    "g <- function(g_x){\n",
    "print(\"Inside g\")\n",
    "print(environment())\n",
    "print(ls())\n",
    "}\n",
    "g(5)\n",
    "print(\"Inside f\")\n",
    "print(environment())\n",
    "print(ls())\n",
    "}"
   ]
  },
  {
   "cell_type": "code",
   "execution_count": 38,
   "metadata": {},
   "outputs": [
    {
     "name": "stdout",
     "output_type": "stream",
     "text": [
      "[1] \"Inside g\"\n",
      "<environment: 0x55beaf6acd20>\n",
      "[1] \"g_x\"\n",
      "[1] \"Inside f\"\n",
      "<environment: 0x55beaf6acee0>\n",
      "[1] \"f_x\" \"g\"  \n"
     ]
    }
   ],
   "source": [
    "f(6)"
   ]
  },
  {
   "cell_type": "code",
   "execution_count": 39,
   "metadata": {},
   "outputs": [],
   "source": [
    "outer_func <- function(){\n",
    "inner_func <- function(){\n",
    "a <<- 30\n",
    "print(a)\n",
    "}\n",
    "inner_func()\n",
    "print(a)\n",
    "}"
   ]
  },
  {
   "cell_type": "code",
   "execution_count": 40,
   "metadata": {},
   "outputs": [
    {
     "name": "stdout",
     "output_type": "stream",
     "text": [
      "[1] 30\n",
      "[1] 30\n"
     ]
    }
   ],
   "source": [
    "outer_func()"
   ]
  },
  {
   "cell_type": "code",
   "execution_count": 41,
   "metadata": {},
   "outputs": [],
   "source": [
    "recursive.factorial <- function(x) {\n",
    "if (x == 0)    return (1)\n",
    "else           return (x * recursive.factorial(x-1))\n",
    "}"
   ]
  },
  {
   "cell_type": "code",
   "execution_count": 42,
   "metadata": {},
   "outputs": [
    {
     "data": {
      "text/html": [
       "5040"
      ],
      "text/latex": [
       "5040"
      ],
      "text/markdown": [
       "5040"
      ],
      "text/plain": [
       "[1] 5040"
      ]
     },
     "metadata": {},
     "output_type": "display_data"
    }
   ],
   "source": [
    "recursive.factorial(7)"
   ]
  },
  {
   "cell_type": "code",
   "execution_count": 43,
   "metadata": {},
   "outputs": [
    {
     "name": "stdout",
     "output_type": "stream",
     "text": [
      "Enter a number: 17\n",
      "[1] \"17 is not an Armstrong number\"\n"
     ]
    }
   ],
   "source": [
    "num = as.integer(readline(prompt=\"Enter a number: \"))\n",
    "\n",
    "sum = 0\n",
    " \n",
    "temp = num\n",
    "while(temp > 0) {\n",
    "digit = temp %% 10\n",
    "sum = sum + (digit ^ 3)\n",
    "temp = floor(temp / 10)\n",
    "}\n",
    "\n",
    "if(num == sum) {\n",
    "print(paste(num, \"is an Armstrong number\"))\n",
    "} else {\n",
    "print(paste(num, \"is not an Armstrong number\"))\n",
    "}\n"
   ]
  }
 ],
 "metadata": {
  "kernelspec": {
   "display_name": "R",
   "language": "R",
   "name": "ir"
  },
  "language_info": {
   "codemirror_mode": "r",
   "file_extension": ".r",
   "mimetype": "text/x-r-source",
   "name": "R",
   "pygments_lexer": "r",
   "version": "3.6.1"
  }
 },
 "nbformat": 4,
 "nbformat_minor": 2
}
