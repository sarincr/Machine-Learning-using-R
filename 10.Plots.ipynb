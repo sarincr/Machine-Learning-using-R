{
 "cells": [
  {
   "cell_type": "code",
   "execution_count": 1,
   "metadata": {},
   "outputs": [
    {
     "data": {
      "text/html": [
       "<strong>png:</strong> 2"
      ],
      "text/latex": [
       "\\textbf{png:} 2"
      ],
      "text/markdown": [
       "**png:** 2"
      ],
      "text/plain": [
       "png \n",
       "  2 "
      ]
     },
     "metadata": {},
     "output_type": "display_data"
    }
   ],
   "source": [
    "x <- c(21, 62, 10, 53)\n",
    "labels <- c(\"London\", \"New York\", \"Singapore\", \"Mumbai\")\n",
    "\n",
    "# Give the chart file a name.\n",
    "png(file = \"city.png\")\n",
    "\n",
    "# Plot the chart.\n",
    "pie(x,labels)\n",
    "dev.off()"
   ]
  },
  {
   "cell_type": "code",
   "execution_count": 2,
   "metadata": {},
   "outputs": [
    {
     "data": {
      "text/html": [
       "<strong>png:</strong> 2"
      ],
      "text/latex": [
       "\\textbf{png:} 2"
      ],
      "text/markdown": [
       "**png:** 2"
      ],
      "text/plain": [
       "png \n",
       "  2 "
      ]
     },
     "metadata": {},
     "output_type": "display_data"
    }
   ],
   "source": [
    "x <- c(21, 62, 10, 53)\n",
    "labels <- c(\"London\", \"New York\", \"Singapore\", \"Mumbai\")\n",
    "\n",
    "# Give the chart file a name.\n",
    "png(file = \"city_title_colours.jpg\")\n",
    "\n",
    "# Plot the chart with title and rainbow color pallet.\n",
    "pie(x, labels, main = \"City pie chart\", col = rainbow(length(x)))\n",
    "\n",
    "# Save the file.\n",
    "dev.off()"
   ]
  },
  {
   "cell_type": "code",
   "execution_count": 3,
   "metadata": {},
   "outputs": [
    {
     "data": {
      "text/html": [
       "<strong>png:</strong> 2"
      ],
      "text/latex": [
       "\\textbf{png:} 2"
      ],
      "text/markdown": [
       "**png:** 2"
      ],
      "text/plain": [
       "png \n",
       "  2 "
      ]
     },
     "metadata": {},
     "output_type": "display_data"
    }
   ],
   "source": [
    "x <-  c(21, 62, 10,53)\n",
    "labels <-  c(\"London\",\"New York\",\"Singapore\",\"Mumbai\")\n",
    "\n",
    "piepercent<- round(100*x/sum(x), 1)\n",
    "\n",
    "# Give the chart file a name.\n",
    "png(file = \"city_percentage_legends.jpg\")\n",
    "\n",
    "# Plot the chart.\n",
    "pie(x, labels = piepercent, main = \"City pie chart\",col = rainbow(length(x)))\n",
    "legend(\"topright\", c(\"London\",\"New York\",\"Singapore\",\"Mumbai\"), cex = 0.8,\n",
    "   fill = rainbow(length(x)))\n",
    "\n",
    "# Save the file.\n",
    "dev.off()"
   ]
  },
  {
   "cell_type": "code",
   "execution_count": 4,
   "metadata": {},
   "outputs": [
    {
     "data": {
      "text/html": [
       "<strong>png:</strong> 2"
      ],
      "text/latex": [
       "\\textbf{png:} 2"
      ],
      "text/markdown": [
       "**png:** 2"
      ],
      "text/plain": [
       "png \n",
       "  2 "
      ]
     },
     "metadata": {},
     "output_type": "display_data"
    }
   ],
   "source": [
    "library(plotrix)\n",
    "\n",
    "# Create data for the graph.\n",
    "x <-  c(21, 62, 10,53)\n",
    "lbl <-  c(\"London\",\"New York\",\"Singapore\",\"Mumbai\")\n",
    "\n",
    "# Give the chart file a name.\n",
    "png(file = \"3d_pie_chart.jpg\")\n",
    "\n",
    "# Plot the chart.\n",
    "pie3D(x,labels = lbl,explode = 0.1, main = \"Pie Chart of Countries \")\n",
    "\n",
    "# Save the file.\n",
    "dev.off()"
   ]
  },
  {
   "cell_type": "code",
   "execution_count": 5,
   "metadata": {},
   "outputs": [
    {
     "data": {
      "text/html": [
       "<strong>png:</strong> 2"
      ],
      "text/latex": [
       "\\textbf{png:} 2"
      ],
      "text/markdown": [
       "**png:** 2"
      ],
      "text/plain": [
       "png \n",
       "  2 "
      ]
     },
     "metadata": {},
     "output_type": "display_data"
    }
   ],
   "source": [
    "H <- c(7,12,28,3,41)\n",
    "\n",
    "# Give the chart file a name\n",
    "png(file = \"barchart.png\")\n",
    "\n",
    "# Plot the bar chart \n",
    "barplot(H)\n",
    "\n",
    "# Save the file\n",
    "dev.off()"
   ]
  },
  {
   "cell_type": "code",
   "execution_count": 6,
   "metadata": {},
   "outputs": [
    {
     "data": {
      "text/html": [
       "<strong>png:</strong> 2"
      ],
      "text/latex": [
       "\\textbf{png:} 2"
      ],
      "text/markdown": [
       "**png:** 2"
      ],
      "text/plain": [
       "png \n",
       "  2 "
      ]
     },
     "metadata": {},
     "output_type": "display_data"
    }
   ],
   "source": [
    "H <- c(7,12,28,3,41)\n",
    "M <- c(\"Mar\",\"Apr\",\"May\",\"Jun\",\"Jul\")\n",
    "\n",
    "# Give the chart file a name\n",
    "png(file = \"barchart_months_revenue.png\")\n",
    "\n",
    "# Plot the bar chart \n",
    "barplot(H,names.arg=M,xlab=\"Month\",ylab=\"Revenue\",col=\"blue\",\n",
    "main=\"Revenue chart\",border=\"red\")\n",
    "\n",
    "# Save the file\n",
    "dev.off()"
   ]
  },
  {
   "cell_type": "code",
   "execution_count": 7,
   "metadata": {},
   "outputs": [
    {
     "data": {
      "text/html": [
       "<strong>png:</strong> 2"
      ],
      "text/latex": [
       "\\textbf{png:} 2"
      ],
      "text/markdown": [
       "**png:** 2"
      ],
      "text/plain": [
       "png \n",
       "  2 "
      ]
     },
     "metadata": {},
     "output_type": "display_data"
    }
   ],
   "source": [
    "colors = c(\"green\",\"orange\",\"brown\")\n",
    "months <- c(\"Mar\",\"Apr\",\"May\",\"Jun\",\"Jul\")\n",
    "regions <- c(\"East\",\"West\",\"North\")\n",
    "\n",
    "# Create the matrix of the values.\n",
    "Values <- matrix(c(2,9,3,11,9,4,8,7,3,12,5,2,8,10,11), nrow = 3, ncol = 5, byrow = TRUE)\n",
    "\n",
    "# Give the chart file a name\n",
    "png(file = \"barchart_stacked.png\")\n",
    "\n",
    "# Create the bar chart\n",
    "barplot(Values, main = \"total revenue\", names.arg = months, xlab = \"month\", ylab = \"revenue\", col = colors)\n",
    "\n",
    "# Add the legend to the chart\n",
    "legend(\"topleft\", regions, cex = 1.3, fill = colors)\n",
    "\n",
    "# Save the file\n",
    "dev.off()"
   ]
  },
  {
   "cell_type": "code",
   "execution_count": 8,
   "metadata": {},
   "outputs": [
    {
     "data": {
      "text/html": [
       "<strong>png:</strong> 2"
      ],
      "text/latex": [
       "\\textbf{png:} 2"
      ],
      "text/markdown": [
       "**png:** 2"
      ],
      "text/plain": [
       "png \n",
       "  2 "
      ]
     },
     "metadata": {},
     "output_type": "display_data"
    }
   ],
   "source": [
    "png(file = \"boxplot.png\")\n",
    "\n",
    "# Plot the chart.\n",
    "boxplot(mpg ~ cyl, data = mtcars, xlab = \"Number of Cylinders\",\n",
    "   ylab = \"Miles Per Gallon\", main = \"Mileage Data\")\n",
    "\n",
    "# Save the file.\n",
    "dev.off()"
   ]
  },
  {
   "cell_type": "code",
   "execution_count": 9,
   "metadata": {},
   "outputs": [
    {
     "name": "stderr",
     "output_type": "stream",
     "text": [
      "Warning message in bxp(list(stats = structure(c(21.4, 22.8, 26, 30.4, 33.9, 17.8, :\n",
      "“some notches went outside hinges ('box'): maybe set notch=FALSE”\n"
     ]
    },
    {
     "data": {
      "text/html": [
       "<strong>png:</strong> 2"
      ],
      "text/latex": [
       "\\textbf{png:} 2"
      ],
      "text/markdown": [
       "**png:** 2"
      ],
      "text/plain": [
       "png \n",
       "  2 "
      ]
     },
     "metadata": {},
     "output_type": "display_data"
    }
   ],
   "source": [
    "png(file = \"boxplot_with_notch.png\")\n",
    "\n",
    "# Plot the chart.\n",
    "boxplot(mpg ~ cyl, data = mtcars, \n",
    "   xlab = \"Number of Cylinders\",\n",
    "   ylab = \"Miles Per Gallon\", \n",
    "   main = \"Mileage Data\",\n",
    "   notch = TRUE, \n",
    "   varwidth = TRUE, \n",
    "   col = c(\"green\",\"yellow\",\"purple\"),\n",
    "   names = c(\"High\",\"Medium\",\"Low\")\n",
    ")\n",
    "# Save the file.\n",
    "dev.off()"
   ]
  },
  {
   "cell_type": "code",
   "execution_count": 10,
   "metadata": {},
   "outputs": [
    {
     "data": {
      "text/html": [
       "<strong>png:</strong> 2"
      ],
      "text/latex": [
       "\\textbf{png:} 2"
      ],
      "text/markdown": [
       "**png:** 2"
      ],
      "text/plain": [
       "png \n",
       "  2 "
      ]
     },
     "metadata": {},
     "output_type": "display_data"
    }
   ],
   "source": [
    "v <-  c(9,13,21,8,36,22,12,41,31,33,19)\n",
    "\n",
    "# Give the chart file a name.\n",
    "png(file = \"histogram.png\")\n",
    "\n",
    "# Create the histogram.\n",
    "hist(v,xlab = \"Weight\",col = \"yellow\",border = \"blue\")\n",
    "\n",
    "# Save the file.\n",
    "dev.off()"
   ]
  },
  {
   "cell_type": "code",
   "execution_count": 11,
   "metadata": {},
   "outputs": [
    {
     "data": {
      "text/html": [
       "<strong>png:</strong> 2"
      ],
      "text/latex": [
       "\\textbf{png:} 2"
      ],
      "text/markdown": [
       "**png:** 2"
      ],
      "text/plain": [
       "png \n",
       "  2 "
      ]
     },
     "metadata": {},
     "output_type": "display_data"
    }
   ],
   "source": [
    "v <- c(9,13,21,8,36,22,12,41,31,33,19)\n",
    "\n",
    "# Give the chart file a name.\n",
    "png(file = \"histogram_lim_breaks.png\")\n",
    "\n",
    "# Create the histogram.\n",
    "hist(v,xlab = \"Weight\",col = \"green\",border = \"red\", xlim = c(0,40), ylim = c(0,5),\n",
    "   breaks = 5)\n",
    "\n",
    "# Save the file.\n",
    "dev.off()"
   ]
  },
  {
   "cell_type": "code",
   "execution_count": 12,
   "metadata": {},
   "outputs": [
    {
     "data": {
      "text/html": [
       "<strong>png:</strong> 2"
      ],
      "text/latex": [
       "\\textbf{png:} 2"
      ],
      "text/markdown": [
       "**png:** 2"
      ],
      "text/plain": [
       "png \n",
       "  2 "
      ]
     },
     "metadata": {},
     "output_type": "display_data"
    }
   ],
   "source": [
    "v <- c(7,12,28,3,41)\n",
    "\n",
    "# Give the chart file a name.\n",
    "png(file = \"line_chart.jpg\")\n",
    "\n",
    "# Plot the bar chart. \n",
    "plot(v,type = \"o\")\n",
    "\n",
    "# Save the file.\n",
    "dev.off()"
   ]
  },
  {
   "cell_type": "code",
   "execution_count": 13,
   "metadata": {},
   "outputs": [
    {
     "data": {
      "text/html": [
       "<strong>png:</strong> 2"
      ],
      "text/latex": [
       "\\textbf{png:} 2"
      ],
      "text/markdown": [
       "**png:** 2"
      ],
      "text/plain": [
       "png \n",
       "  2 "
      ]
     },
     "metadata": {},
     "output_type": "display_data"
    }
   ],
   "source": [
    "v <- c(7,12,28,3,41)\n",
    "\n",
    "# Give the chart file a name.\n",
    "png(file = \"line_chart_label_colored.jpg\")\n",
    "\n",
    "# Plot the bar chart.\n",
    "plot(v,type = \"o\", col = \"red\", xlab = \"Month\", ylab = \"Rain fall\",\n",
    "   main = \"Rain fall chart\")\n",
    "\n",
    "# Save the file.\n",
    "dev.off()"
   ]
  },
  {
   "cell_type": "code",
   "execution_count": 14,
   "metadata": {},
   "outputs": [
    {
     "data": {
      "text/html": [
       "<strong>png:</strong> 2"
      ],
      "text/latex": [
       "\\textbf{png:} 2"
      ],
      "text/markdown": [
       "**png:** 2"
      ],
      "text/plain": [
       "png \n",
       "  2 "
      ]
     },
     "metadata": {},
     "output_type": "display_data"
    }
   ],
   "source": [
    "v <- c(7,12,28,3,41)\n",
    "t <- c(14,7,6,19,3)\n",
    "\n",
    "# Give the chart file a name.\n",
    "png(file = \"line_chart_2_lines.jpg\")\n",
    "\n",
    "# Plot the bar chart.\n",
    "plot(v,type = \"o\",col = \"red\", xlab = \"Month\", ylab = \"Rain fall\", \n",
    "   main = \"Rain fall chart\")\n",
    "\n",
    "lines(t, type = \"o\", col = \"blue\")\n",
    "\n",
    "# Save the file.\n",
    "dev.off()"
   ]
  },
  {
   "cell_type": "code",
   "execution_count": 15,
   "metadata": {},
   "outputs": [
    {
     "data": {
      "text/html": [
       "<strong>png:</strong> 2"
      ],
      "text/latex": [
       "\\textbf{png:} 2"
      ],
      "text/markdown": [
       "**png:** 2"
      ],
      "text/plain": [
       "png \n",
       "  2 "
      ]
     },
     "metadata": {},
     "output_type": "display_data"
    }
   ],
   "source": [
    "input <- mtcars[,c('wt','mpg')]\n",
    "\n",
    "# Give the chart file a name.\n",
    "png(file = \"scatterplot.png\")\n",
    "\n",
    "# Plot the chart for cars with weight between 2.5 to 5 and mileage between 15 and 30.\n",
    "plot(x = input$wt,y = input$mpg,\n",
    "   xlab = \"Weight\",\n",
    "   ylab = \"Milage\",\n",
    "   xlim = c(2.5,5),\n",
    "   ylim = c(15,30),\t\t \n",
    "   main = \"Weight vs Milage\"\n",
    ")\n",
    "\t \n",
    "# Save the file.\n",
    "dev.off()"
   ]
  },
  {
   "cell_type": "code",
   "execution_count": 16,
   "metadata": {},
   "outputs": [
    {
     "data": {
      "text/html": [
       "<strong>png:</strong> 2"
      ],
      "text/latex": [
       "\\textbf{png:} 2"
      ],
      "text/markdown": [
       "**png:** 2"
      ],
      "text/plain": [
       "png \n",
       "  2 "
      ]
     },
     "metadata": {},
     "output_type": "display_data"
    }
   ],
   "source": [
    "# Give the chart file a name.\n",
    "png(file = \"scatterplot_matrices.png\")\n",
    "\n",
    "# Plot the matrices between 4 variables giving 12 plots.\n",
    "\n",
    "# One variable with 3 others and total 4 variables.\n",
    "\n",
    "pairs(~wt+mpg+disp+cyl,data = mtcars,\n",
    "   main = \"Scatterplot Matrix\")\n",
    "\n",
    "# Save the file.\n",
    "dev.off()"
   ]
  },
  {
   "cell_type": "code",
   "execution_count": null,
   "metadata": {},
   "outputs": [],
   "source": []
  }
 ],
 "metadata": {
  "kernelspec": {
   "display_name": "R",
   "language": "R",
   "name": "ir"
  },
  "language_info": {
   "codemirror_mode": "r",
   "file_extension": ".r",
   "mimetype": "text/x-r-source",
   "name": "R",
   "pygments_lexer": "r",
   "version": "3.6.3"
  }
 },
 "nbformat": 4,
 "nbformat_minor": 4
}
