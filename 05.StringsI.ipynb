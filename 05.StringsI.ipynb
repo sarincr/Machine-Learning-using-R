{
 "cells": [
  {
   "cell_type": "code",
   "execution_count": 1,
   "metadata": {},
   "outputs": [
    {
     "name": "stdout",
     "output_type": "stream",
     "text": [
      "[1] \"Start and end with single quote\"\n"
     ]
    }
   ],
   "source": [
    "a <- 'Start and end with single quote'\n",
    "print(a)"
   ]
  },
  {
   "cell_type": "code",
   "execution_count": 2,
   "metadata": {},
   "outputs": [
    {
     "name": "stdout",
     "output_type": "stream",
     "text": [
      "[1] \"Start and end with double quotes\"\n"
     ]
    }
   ],
   "source": [
    "b <- \"Start and end with double quotes\"\n",
    "print(b)"
   ]
  },
  {
   "cell_type": "code",
   "execution_count": 3,
   "metadata": {},
   "outputs": [
    {
     "name": "stdout",
     "output_type": "stream",
     "text": [
      "[1] \"single quote ' in between double quotes\"\n"
     ]
    }
   ],
   "source": [
    "c <- \"single quote ' in between double quotes\"\n",
    "print(c)\n"
   ]
  },
  {
   "cell_type": "code",
   "execution_count": 4,
   "metadata": {},
   "outputs": [
    {
     "name": "stdout",
     "output_type": "stream",
     "text": [
      "[1] \"Double quotes \\\" in between single quote\"\n"
     ]
    }
   ],
   "source": [
    "d <- 'Double quotes \" in between single quote'\n",
    "print(d)"
   ]
  },
  {
   "cell_type": "code",
   "execution_count": 10,
   "metadata": {},
   "outputs": [
    {
     "data": {
      "text/plain": [
       "expression(abc12 - `3def`)"
      ]
     },
     "metadata": {},
     "output_type": "display_data"
    }
   ],
   "source": [
    "str <- \"abc12-`3def`\"\n",
    "parse(text = str)"
   ]
  },
  {
   "cell_type": "code",
   "execution_count": 13,
   "metadata": {},
   "outputs": [
    {
     "name": "stdout",
     "output_type": "stream",
     "text": [
      "[1] \"Hello How are you? \"\n",
      "[1] \"Hello-How-are you? \"\n",
      "[1] \"HelloHoware you? \"\n"
     ]
    }
   ],
   "source": [
    "a <- \"Hello\"\n",
    "b <- 'How'\n",
    "c <- \"are you? \"\n",
    "\n",
    "print(paste(a,b,c))\n",
    "\n",
    "print(paste(a,b,c, sep = \"-\"))\n",
    "\n",
    "print(paste(a,b,c, sep = \"\", collapse = \"\"))"
   ]
  },
  {
   "cell_type": "code",
   "execution_count": 14,
   "metadata": {},
   "outputs": [
    {
     "name": "stdout",
     "output_type": "stream",
     "text": [
      "[1] \"23.1234568\"\n"
     ]
    }
   ],
   "source": [
    "# Total number of digits displayed. Last digit rounded off.\n",
    "result <- format(23.123456789, digits = 9)\n",
    "print(result)"
   ]
  },
  {
   "cell_type": "code",
   "execution_count": 15,
   "metadata": {},
   "outputs": [
    {
     "name": "stdout",
     "output_type": "stream",
     "text": [
      "[1] \"6.000000e+00\" \"1.314521e+01\"\n"
     ]
    }
   ],
   "source": [
    "# Display numbers in scientific notation.\n",
    "result <- format(c(6, 13.14521), scientific = TRUE)\n",
    "print(result)"
   ]
  },
  {
   "cell_type": "code",
   "execution_count": 16,
   "metadata": {},
   "outputs": [
    {
     "name": "stdout",
     "output_type": "stream",
     "text": [
      "[1] \"23.47000\"\n"
     ]
    }
   ],
   "source": [
    "# The minimum number of digits to the right of the decimal point.\n",
    "result <- format(23.47, nsmall = 5)\n",
    "print(result)\n"
   ]
  },
  {
   "cell_type": "code",
   "execution_count": 17,
   "metadata": {},
   "outputs": [
    {
     "name": "stdout",
     "output_type": "stream",
     "text": [
      "[1] \"6\"\n"
     ]
    }
   ],
   "source": [
    "# Format treats everything as a string.\n",
    "result <- format(6)\n",
    "print(result)"
   ]
  },
  {
   "cell_type": "code",
   "execution_count": 18,
   "metadata": {},
   "outputs": [
    {
     "name": "stdout",
     "output_type": "stream",
     "text": [
      "[1] \"  13.7\"\n"
     ]
    }
   ],
   "source": [
    "# Numbers are padded with blank in the beginning for width.\n",
    "result <- format(13.7, width = 6)\n",
    "print(result)"
   ]
  },
  {
   "cell_type": "code",
   "execution_count": 20,
   "metadata": {},
   "outputs": [
    {
     "name": "stdout",
     "output_type": "stream",
     "text": [
      "[1] \"Hello   \"\n"
     ]
    }
   ],
   "source": [
    "# Left justify strings.\n",
    "result <- format(\"Hello\", width = 8, justify = \"l\")\n",
    "print(result)"
   ]
  },
  {
   "cell_type": "code",
   "execution_count": 21,
   "metadata": {},
   "outputs": [
    {
     "name": "stdout",
     "output_type": "stream",
     "text": [
      "[1] \" Hello  \"\n"
     ]
    }
   ],
   "source": [
    "# Justfy string with center.\n",
    "result <- format(\"Hello\", width = 8, justify = \"c\")\n",
    "print(result)"
   ]
  },
  {
   "cell_type": "code",
   "execution_count": 22,
   "metadata": {},
   "outputs": [
    {
     "name": "stdout",
     "output_type": "stream",
     "text": [
      "[1] 30\n"
     ]
    }
   ],
   "source": [
    "result <- nchar(\"Count the number of characters\")\n",
    "print(result)"
   ]
  },
  {
   "cell_type": "code",
   "execution_count": 24,
   "metadata": {},
   "outputs": [
    {
     "name": "stdout",
     "output_type": "stream",
     "text": [
      "[1] \"CHANGING TO UPPER\"\n"
     ]
    }
   ],
   "source": [
    "# Changing to Upper case.\n",
    "result <- toupper(\"Changing To Upper\")\n",
    "print(result)"
   ]
  },
  {
   "cell_type": "code",
   "execution_count": 25,
   "metadata": {},
   "outputs": [
    {
     "name": "stdout",
     "output_type": "stream",
     "text": [
      "[1] \"changing to lower\"\n"
     ]
    }
   ],
   "source": [
    "# Changing to lower case.\n",
    "result <- tolower(\"Changing To Lower\")\n",
    "print(result)"
   ]
  },
  {
   "cell_type": "code",
   "execution_count": 26,
   "metadata": {},
   "outputs": [
    {
     "name": "stdout",
     "output_type": "stream",
     "text": [
      "[1] \"act\"\n"
     ]
    }
   ],
   "source": [
    "# Extract characters from 5th to 7th position.\n",
    "result <- substring(\"Extract\", 5, 7)\n",
    "print(result)"
   ]
  },
  {
   "cell_type": "code",
   "execution_count": null,
   "metadata": {},
   "outputs": [],
   "source": []
  }
 ],
 "metadata": {
  "kernelspec": {
   "display_name": "R",
   "language": "R",
   "name": "ir"
  },
  "language_info": {
   "codemirror_mode": "r",
   "file_extension": ".r",
   "mimetype": "text/x-r-source",
   "name": "R",
   "pygments_lexer": "r",
   "version": "3.6.1"
  }
 },
 "nbformat": 4,
 "nbformat_minor": 4
}
