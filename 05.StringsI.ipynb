{
 "cells": [
  {
   "cell_type": "code",
   "execution_count": 1,
   "metadata": {},
   "outputs": [
    {
     "name": "stdout",
     "output_type": "stream",
     "text": [
      "[1] \"Start and end with single quote\"\n"
     ]
    }
   ],
   "source": [
    "a <- 'Start and end with single quote'\n",
    "print(a)"
   ]
  },
  {
   "cell_type": "code",
   "execution_count": 2,
   "metadata": {},
   "outputs": [
    {
     "name": "stdout",
     "output_type": "stream",
     "text": [
      "[1] \"Start and end with double quotes\"\n"
     ]
    }
   ],
   "source": [
    "b <- \"Start and end with double quotes\"\n",
    "print(b)"
   ]
  },
  {
   "cell_type": "code",
   "execution_count": 3,
   "metadata": {},
   "outputs": [
    {
     "name": "stdout",
     "output_type": "stream",
     "text": [
      "[1] \"single quote ' in between double quotes\"\n"
     ]
    }
   ],
   "source": [
    "c <- \"single quote ' in between double quotes\"\n",
    "print(c)\n"
   ]
  },
  {
   "cell_type": "code",
   "execution_count": 4,
   "metadata": {},
   "outputs": [
    {
     "name": "stdout",
     "output_type": "stream",
     "text": [
      "[1] \"Double quotes \\\" in between single quote\"\n"
     ]
    }
   ],
   "source": [
    "d <- 'Double quotes \" in between single quote'\n",
    "print(d)"
   ]
  },
  {
   "cell_type": "code",
   "execution_count": 10,
   "metadata": {},
   "outputs": [
    {
     "data": {
      "text/plain": [
       "expression(abc12 - `3def`)"
      ]
     },
     "metadata": {},
     "output_type": "display_data"
    }
   ],
   "source": [
    "str <- \"abc12-`3def`\"\n",
    "parse(text = str)"
   ]
  },
  {
   "cell_type": "code",
   "execution_count": 13,
   "metadata": {},
   "outputs": [
    {
     "name": "stdout",
     "output_type": "stream",
     "text": [
      "[1] \"Hello How are you? \"\n",
      "[1] \"Hello-How-are you? \"\n",
      "[1] \"HelloHoware you? \"\n"
     ]
    }
   ],
   "source": [
    "a <- \"Hello\"\n",
    "b <- 'How'\n",
    "c <- \"are you? \"\n",
    "\n",
    "print(paste(a,b,c))\n",
    "\n",
    "print(paste(a,b,c, sep = \"-\"))\n",
    "\n",
    "print(paste(a,b,c, sep = \"\", collapse = \"\"))"
   ]
  },
  {
   "cell_type": "code",
   "execution_count": 14,
   "metadata": {},
   "outputs": [
    {
     "name": "stdout",
     "output_type": "stream",
     "text": [
      "[1] \"23.1234568\"\n"
     ]
    }
   ],
   "source": [
    "# Total number of digits displayed. Last digit rounded off.\n",
    "result <- format(23.123456789, digits = 9)\n",
    "print(result)"
   ]
  },
  {
   "cell_type": "code",
   "execution_count": 15,
   "metadata": {},
   "outputs": [
    {
     "name": "stdout",
     "output_type": "stream",
     "text": [
      "[1] \"6.000000e+00\" \"1.314521e+01\"\n"
     ]
    }
   ],
   "source": [
    "# Display numbers in scientific notation.\n",
    "result <- format(c(6, 13.14521), scientific = TRUE)\n",
    "print(result)"
   ]
  },
  {
   "cell_type": "code",
   "execution_count": 16,
   "metadata": {},
   "outputs": [
    {
     "name": "stdout",
     "output_type": "stream",
     "text": [
      "[1] \"23.47000\"\n"
     ]
    }
   ],
   "source": [
    "# The minimum number of digits to the right of the decimal point.\n",
    "result <- format(23.47, nsmall = 5)\n",
    "print(result)\n"
   ]
  },
  {
   "cell_type": "code",
   "execution_count": 17,
   "metadata": {},
   "outputs": [
    {
     "name": "stdout",
     "output_type": "stream",
     "text": [
      "[1] \"6\"\n"
     ]
    }
   ],
   "source": [
    "# Format treats everything as a string.\n",
    "result <- format(6)\n",
    "print(result)"
   ]
  },
  {
   "cell_type": "code",
   "execution_count": 18,
   "metadata": {},
   "outputs": [
    {
     "name": "stdout",
     "output_type": "stream",
     "text": [
      "[1] \"  13.7\"\n"
     ]
    }
   ],
   "source": [
    "# Numbers are padded with blank in the beginning for width.\n",
    "result <- format(13.7, width = 6)\n",
    "print(result)"
   ]
  },
  {
   "cell_type": "code",
   "execution_count": 20,
   "metadata": {},
   "outputs": [
    {
     "name": "stdout",
     "output_type": "stream",
     "text": [
      "[1] \"Hello   \"\n"
     ]
    }
   ],
   "source": [
    "# Left justify strings.\n",
    "result <- format(\"Hello\", width = 8, justify = \"l\")\n",
    "print(result)"
   ]
  },
  {
   "cell_type": "code",
   "execution_count": 21,
   "metadata": {},
   "outputs": [
    {
     "name": "stdout",
     "output_type": "stream",
     "text": [
      "[1] \" Hello  \"\n"
     ]
    }
   ],
   "source": [
    "# Justfy string with center.\n",
    "result <- format(\"Hello\", width = 8, justify = \"c\")\n",
    "print(result)"
   ]
  },
  {
   "cell_type": "code",
   "execution_count": 22,
   "metadata": {},
   "outputs": [
    {
     "name": "stdout",
     "output_type": "stream",
     "text": [
      "[1] 30\n"
     ]
    }
   ],
   "source": [
    "result <- nchar(\"Count the number of characters\")\n",
    "print(result)"
   ]
  },
  {
   "cell_type": "code",
   "execution_count": 24,
   "metadata": {},
   "outputs": [
    {
     "name": "stdout",
     "output_type": "stream",
     "text": [
      "[1] \"CHANGING TO UPPER\"\n"
     ]
    }
   ],
   "source": [
    "# Changing to Upper case.\n",
    "result <- toupper(\"Changing To Upper\")\n",
    "print(result)"
   ]
  },
  {
   "cell_type": "code",
   "execution_count": 25,
   "metadata": {},
   "outputs": [
    {
     "name": "stdout",
     "output_type": "stream",
     "text": [
      "[1] \"changing to lower\"\n"
     ]
    }
   ],
   "source": [
    "# Changing to lower case.\n",
    "result <- tolower(\"Changing To Lower\")\n",
    "print(result)"
   ]
  },
  {
   "cell_type": "code",
   "execution_count": 26,
   "metadata": {},
   "outputs": [
    {
     "name": "stdout",
     "output_type": "stream",
     "text": [
      "[1] \"act\"\n"
     ]
    }
   ],
   "source": [
    "# Extract characters from 5th to 7th position.\n",
    "result <- substring(\"Extract\", 5, 7)\n",
    "print(result)"
   ]
  },
  {
   "cell_type": "code",
   "execution_count": 31,
   "metadata": {},
   "outputs": [],
   "source": [
    "library(tidyverse)"
   ]
  },
  {
   "cell_type": "code",
   "execution_count": 32,
   "metadata": {},
   "outputs": [
    {
     "data": {
      "text/html": [
       "<ol class=list-inline>\n",
       "\t<li>1</li>\n",
       "\t<li>18</li>\n",
       "\t<li>&lt;NA&gt;</li>\n",
       "</ol>\n"
      ],
      "text/latex": [
       "\\begin{enumerate*}\n",
       "\\item 1\n",
       "\\item 18\n",
       "\\item <NA>\n",
       "\\end{enumerate*}\n"
      ],
      "text/markdown": [
       "1. 1\n",
       "2. 18\n",
       "3. &lt;NA&gt;\n",
       "\n",
       "\n"
      ],
      "text/plain": [
       "[1]  1 18 NA"
      ]
     },
     "metadata": {},
     "output_type": "display_data"
    }
   ],
   "source": [
    "str_length(c(\"a\", \"R for data science\", NA))"
   ]
  },
  {
   "cell_type": "code",
   "execution_count": 33,
   "metadata": {},
   "outputs": [
    {
     "data": {
      "text/html": [
       "'µ'"
      ],
      "text/latex": [
       "'µ'"
      ],
      "text/markdown": [
       "'µ'"
      ],
      "text/plain": [
       "[1] \"µ\""
      ]
     },
     "metadata": {},
     "output_type": "display_data"
    }
   ],
   "source": [
    "x <- \"\\u00b5\"\n",
    "x"
   ]
  },
  {
   "cell_type": "code",
   "execution_count": 34,
   "metadata": {},
   "outputs": [
    {
     "data": {
      "text/html": [
       "<ol class=list-inline>\n",
       "\t<li>'\"'</li>\n",
       "\t<li>'\\\\'</li>\n",
       "</ol>\n"
      ],
      "text/latex": [
       "\\begin{enumerate*}\n",
       "\\item '\"'\n",
       "\\item '\\textbackslash{}\\textbackslash{}'\n",
       "\\end{enumerate*}\n"
      ],
      "text/markdown": [
       "1. '\"'\n",
       "2. '\\\\'\n",
       "\n",
       "\n"
      ],
      "text/plain": [
       "[1] \"\\\"\" \"\\\\\""
      ]
     },
     "metadata": {},
     "output_type": "display_data"
    }
   ],
   "source": [
    "x <- c(\"\\\"\", \"\\\\\")\n",
    "x"
   ]
  },
  {
   "cell_type": "code",
   "execution_count": 35,
   "metadata": {},
   "outputs": [
    {
     "data": {
      "text/html": [
       "'xy'"
      ],
      "text/latex": [
       "'xy'"
      ],
      "text/markdown": [
       "'xy'"
      ],
      "text/plain": [
       "[1] \"xy\""
      ]
     },
     "metadata": {},
     "output_type": "display_data"
    }
   ],
   "source": [
    "str_c(\"x\", \"y\")"
   ]
  },
  {
   "cell_type": "code",
   "execution_count": 36,
   "metadata": {},
   "outputs": [
    {
     "data": {
      "text/html": [
       "'xyz'"
      ],
      "text/latex": [
       "'xyz'"
      ],
      "text/markdown": [
       "'xyz'"
      ],
      "text/plain": [
       "[1] \"xyz\""
      ]
     },
     "metadata": {},
     "output_type": "display_data"
    }
   ],
   "source": [
    "str_c(\"x\", \"y\", \"z\")"
   ]
  },
  {
   "cell_type": "code",
   "execution_count": 37,
   "metadata": {},
   "outputs": [
    {
     "data": {
      "text/html": [
       "'x, y'"
      ],
      "text/latex": [
       "'x, y'"
      ],
      "text/markdown": [
       "'x, y'"
      ],
      "text/plain": [
       "[1] \"x, y\""
      ]
     },
     "metadata": {},
     "output_type": "display_data"
    }
   ],
   "source": [
    "str_c(\"x\", \"y\", sep = \", \")"
   ]
  },
  {
   "cell_type": "code",
   "execution_count": 38,
   "metadata": {},
   "outputs": [
    {
     "data": {
      "text/html": [
       "<ol class=list-inline>\n",
       "\t<li>'|-abc-|'</li>\n",
       "\t<li>NA</li>\n",
       "</ol>\n"
      ],
      "text/latex": [
       "\\begin{enumerate*}\n",
       "\\item '\\textbar{}-abc-\\textbar{}'\n",
       "\\item NA\n",
       "\\end{enumerate*}\n"
      ],
      "text/markdown": [
       "1. '|-abc-|'\n",
       "2. NA\n",
       "\n",
       "\n"
      ],
      "text/plain": [
       "[1] \"|-abc-|\" NA       "
      ]
     },
     "metadata": {},
     "output_type": "display_data"
    }
   ],
   "source": [
    "x <- c(\"abc\", NA)\n",
    "str_c(\"|-\", x, \"-|\")"
   ]
  },
  {
   "cell_type": "code",
   "execution_count": 39,
   "metadata": {},
   "outputs": [
    {
     "data": {
      "text/html": [
       "<ol class=list-inline>\n",
       "\t<li>'|-abc-|'</li>\n",
       "\t<li>'|-NA-|'</li>\n",
       "</ol>\n"
      ],
      "text/latex": [
       "\\begin{enumerate*}\n",
       "\\item '\\textbar{}-abc-\\textbar{}'\n",
       "\\item '\\textbar{}-NA-\\textbar{}'\n",
       "\\end{enumerate*}\n"
      ],
      "text/markdown": [
       "1. '|-abc-|'\n",
       "2. '|-NA-|'\n",
       "\n",
       "\n"
      ],
      "text/plain": [
       "[1] \"|-abc-|\" \"|-NA-|\" "
      ]
     },
     "metadata": {},
     "output_type": "display_data"
    }
   ],
   "source": [
    "str_c(\"|-\", str_replace_na(x), \"-|\")"
   ]
  },
  {
   "cell_type": "code",
   "execution_count": 40,
   "metadata": {},
   "outputs": [
    {
     "data": {
      "text/html": [
       "<ol class=list-inline>\n",
       "\t<li>'prefix-a-suffix'</li>\n",
       "\t<li>'prefix-b-suffix'</li>\n",
       "\t<li>'prefix-c-suffix'</li>\n",
       "</ol>\n"
      ],
      "text/latex": [
       "\\begin{enumerate*}\n",
       "\\item 'prefix-a-suffix'\n",
       "\\item 'prefix-b-suffix'\n",
       "\\item 'prefix-c-suffix'\n",
       "\\end{enumerate*}\n"
      ],
      "text/markdown": [
       "1. 'prefix-a-suffix'\n",
       "2. 'prefix-b-suffix'\n",
       "3. 'prefix-c-suffix'\n",
       "\n",
       "\n"
      ],
      "text/plain": [
       "[1] \"prefix-a-suffix\" \"prefix-b-suffix\" \"prefix-c-suffix\""
      ]
     },
     "metadata": {},
     "output_type": "display_data"
    }
   ],
   "source": [
    "str_c(\"prefix-\", c(\"a\", \"b\", \"c\"), \"-suffix\")"
   ]
  },
  {
   "cell_type": "code",
   "execution_count": 41,
   "metadata": {},
   "outputs": [
    {
     "data": {
      "text/html": [
       "'Good morning Hadley.'"
      ],
      "text/latex": [
       "'Good morning Hadley.'"
      ],
      "text/markdown": [
       "'Good morning Hadley.'"
      ],
      "text/plain": [
       "[1] \"Good morning Hadley.\""
      ]
     },
     "metadata": {},
     "output_type": "display_data"
    }
   ],
   "source": [
    "name <- \"Hadley\"\n",
    "time_of_day <- \"morning\"\n",
    "birthday <- FALSE\n",
    "\n",
    "str_c(\n",
    "  \"Good \", time_of_day, \" \", name,\n",
    "  if (birthday) \" and HAPPY BIRTHDAY\",\n",
    "  \".\"\n",
    ")\n"
   ]
  }
 ],
 "metadata": {
  "kernelspec": {
   "display_name": "R",
   "language": "R",
   "name": "ir"
  },
  "language_info": {
   "codemirror_mode": "r",
   "file_extension": ".r",
   "mimetype": "text/x-r-source",
   "name": "R",
   "pygments_lexer": "r",
   "version": "3.6.1"
  }
 },
 "nbformat": 4,
 "nbformat_minor": 4
}
