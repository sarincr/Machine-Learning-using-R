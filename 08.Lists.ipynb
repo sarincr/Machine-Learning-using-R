{
 "cells": [
  {
   "cell_type": "code",
   "execution_count": 2,
   "metadata": {},
   "outputs": [
    {
     "data": {
      "text/html": [
       "<style>\n",
       ".list-inline {list-style: none; margin:0; padding: 0}\n",
       ".list-inline>li {display: inline-block}\n",
       ".list-inline>li:not(:last-child)::after {content: \"\\00b7\"; padding: 0 .5ex}\n",
       "</style>\n",
       "<ol class=list-inline><li>3</li><li>4</li><li>5</li><li>6</li></ol>\n"
      ],
      "text/latex": [
       "\\begin{enumerate*}\n",
       "\\item 3\n",
       "\\item 4\n",
       "\\item 5\n",
       "\\item 6\n",
       "\\end{enumerate*}\n"
      ],
      "text/markdown": [
       "1. 3\n",
       "2. 4\n",
       "3. 5\n",
       "4. 6\n",
       "\n",
       "\n"
      ],
      "text/plain": [
       "[1] 3 4 5 6"
      ]
     },
     "metadata": {},
     "output_type": "display_data"
    }
   ],
   "source": [
    "vec <- c(3,4,5,6)  \n",
    "vec"
   ]
  },
  {
   "cell_type": "code",
   "execution_count": 3,
   "metadata": {},
   "outputs": [
    {
     "data": {
      "text/html": [
       "<style>\n",
       ".list-inline {list-style: none; margin:0; padding: 0}\n",
       ".list-inline>li {display: inline-block}\n",
       ".list-inline>li:not(:last-child)::after {content: \"\\00b7\"; padding: 0 .5ex}\n",
       "</style>\n",
       "<ol class=list-inline><li>'shubham'</li><li>'nishka'</li><li>'gunjan'</li><li>'sumit'</li></ol>\n"
      ],
      "text/latex": [
       "\\begin{enumerate*}\n",
       "\\item 'shubham'\n",
       "\\item 'nishka'\n",
       "\\item 'gunjan'\n",
       "\\item 'sumit'\n",
       "\\end{enumerate*}\n"
      ],
      "text/markdown": [
       "1. 'shubham'\n",
       "2. 'nishka'\n",
       "3. 'gunjan'\n",
       "4. 'sumit'\n",
       "\n",
       "\n"
      ],
      "text/plain": [
       "[1] \"shubham\" \"nishka\"  \"gunjan\"  \"sumit\"  "
      ]
     },
     "metadata": {},
     "output_type": "display_data"
    }
   ],
   "source": [
    "char_vec<-c(\"shubham\",\"nishka\",\"gunjan\",\"sumit\")  \n",
    "char_vec"
   ]
  },
  {
   "cell_type": "code",
   "execution_count": 4,
   "metadata": {},
   "outputs": [
    {
     "data": {
      "text/html": [
       "<style>\n",
       ".list-inline {list-style: none; margin:0; padding: 0}\n",
       ".list-inline>li {display: inline-block}\n",
       ".list-inline>li:not(:last-child)::after {content: \"\\00b7\"; padding: 0 .5ex}\n",
       "</style>\n",
       "<ol class=list-inline><li>TRUE</li><li>FALSE</li><li>FALSE</li><li>TRUE</li></ol>\n"
      ],
      "text/latex": [
       "\\begin{enumerate*}\n",
       "\\item TRUE\n",
       "\\item FALSE\n",
       "\\item FALSE\n",
       "\\item TRUE\n",
       "\\end{enumerate*}\n"
      ],
      "text/markdown": [
       "1. TRUE\n",
       "2. FALSE\n",
       "3. FALSE\n",
       "4. TRUE\n",
       "\n",
       "\n"
      ],
      "text/plain": [
       "[1]  TRUE FALSE FALSE  TRUE"
      ]
     },
     "metadata": {},
     "output_type": "display_data"
    }
   ],
   "source": [
    "logic_vec<-c(TRUE,FALSE,FALSE,TRUE)  \n",
    "logic_vec"
   ]
  },
  {
   "cell_type": "code",
   "execution_count": 5,
   "metadata": {},
   "outputs": [
    {
     "data": {
      "text/html": [
       "<ol>\n",
       "\t<li><style>\n",
       ".list-inline {list-style: none; margin:0; padding: 0}\n",
       ".list-inline>li {display: inline-block}\n",
       ".list-inline>li:not(:last-child)::after {content: \"\\00b7\"; padding: 0 .5ex}\n",
       "</style>\n",
       "<ol class=list-inline><li>3</li><li>4</li><li>5</li><li>6</li></ol>\n",
       "</li>\n",
       "\t<li><style>\n",
       ".list-inline {list-style: none; margin:0; padding: 0}\n",
       ".list-inline>li {display: inline-block}\n",
       ".list-inline>li:not(:last-child)::after {content: \"\\00b7\"; padding: 0 .5ex}\n",
       "</style>\n",
       "<ol class=list-inline><li>'shubham'</li><li>'nishka'</li><li>'gunjan'</li><li>'sumit'</li></ol>\n",
       "</li>\n",
       "\t<li><style>\n",
       ".list-inline {list-style: none; margin:0; padding: 0}\n",
       ".list-inline>li {display: inline-block}\n",
       ".list-inline>li:not(:last-child)::after {content: \"\\00b7\"; padding: 0 .5ex}\n",
       "</style>\n",
       "<ol class=list-inline><li>TRUE</li><li>FALSE</li><li>FALSE</li><li>TRUE</li></ol>\n",
       "</li>\n",
       "</ol>\n"
      ],
      "text/latex": [
       "\\begin{enumerate}\n",
       "\\item \\begin{enumerate*}\n",
       "\\item 3\n",
       "\\item 4\n",
       "\\item 5\n",
       "\\item 6\n",
       "\\end{enumerate*}\n",
       "\n",
       "\\item \\begin{enumerate*}\n",
       "\\item 'shubham'\n",
       "\\item 'nishka'\n",
       "\\item 'gunjan'\n",
       "\\item 'sumit'\n",
       "\\end{enumerate*}\n",
       "\n",
       "\\item \\begin{enumerate*}\n",
       "\\item TRUE\n",
       "\\item FALSE\n",
       "\\item FALSE\n",
       "\\item TRUE\n",
       "\\end{enumerate*}\n",
       "\n",
       "\\end{enumerate}\n"
      ],
      "text/markdown": [
       "1. 1. 3\n",
       "2. 4\n",
       "3. 5\n",
       "4. 6\n",
       "\n",
       "\n",
       "\n",
       "2. 1. 'shubham'\n",
       "2. 'nishka'\n",
       "3. 'gunjan'\n",
       "4. 'sumit'\n",
       "\n",
       "\n",
       "\n",
       "3. 1. TRUE\n",
       "2. FALSE\n",
       "3. FALSE\n",
       "4. TRUE\n",
       "\n",
       "\n",
       "\n",
       "\n",
       "\n"
      ],
      "text/plain": [
       "[[1]]\n",
       "[1] 3 4 5 6\n",
       "\n",
       "[[2]]\n",
       "[1] \"shubham\" \"nishka\"  \"gunjan\"  \"sumit\"  \n",
       "\n",
       "[[3]]\n",
       "[1]  TRUE FALSE FALSE  TRUE\n"
      ]
     },
     "metadata": {},
     "output_type": "display_data"
    }
   ],
   "source": [
    "out_list<-list(vec,char_vec,logic_vec)  \n",
    "out_list  "
   ]
  },
  {
   "cell_type": "code",
   "execution_count": 6,
   "metadata": {},
   "outputs": [
    {
     "data": {
      "text/html": [
       "<ol>\n",
       "\t<li>1</li>\n",
       "\t<li>2</li>\n",
       "\t<li>3</li>\n",
       "</ol>\n"
      ],
      "text/latex": [
       "\\begin{enumerate}\n",
       "\\item 1\n",
       "\\item 2\n",
       "\\item 3\n",
       "\\end{enumerate}\n"
      ],
      "text/markdown": [
       "1. 1\n",
       "2. 2\n",
       "3. 3\n",
       "\n",
       "\n"
      ],
      "text/plain": [
       "[[1]]\n",
       "[1] 1\n",
       "\n",
       "[[2]]\n",
       "[1] 2\n",
       "\n",
       "[[3]]\n",
       "[1] 3\n"
      ]
     },
     "metadata": {},
     "output_type": "display_data"
    },
    {
     "data": {
      "text/html": [
       "<ol>\n",
       "\t<li>'Shubham'</li>\n",
       "\t<li>'Arpita'</li>\n",
       "\t<li>'Vaishali'</li>\n",
       "</ol>\n"
      ],
      "text/latex": [
       "\\begin{enumerate}\n",
       "\\item 'Shubham'\n",
       "\\item 'Arpita'\n",
       "\\item 'Vaishali'\n",
       "\\end{enumerate}\n"
      ],
      "text/markdown": [
       "1. 'Shubham'\n",
       "2. 'Arpita'\n",
       "3. 'Vaishali'\n",
       "\n",
       "\n"
      ],
      "text/plain": [
       "[[1]]\n",
       "[1] \"Shubham\"\n",
       "\n",
       "[[2]]\n",
       "[1] \"Arpita\"\n",
       "\n",
       "[[3]]\n",
       "[1] \"Vaishali\"\n"
      ]
     },
     "metadata": {},
     "output_type": "display_data"
    },
    {
     "data": {
      "text/html": [
       "<ol>\n",
       "\t<li><style>\n",
       ".list-inline {list-style: none; margin:0; padding: 0}\n",
       ".list-inline>li {display: inline-block}\n",
       ".list-inline>li:not(:last-child)::after {content: \"\\00b7\"; padding: 0 .5ex}\n",
       "</style>\n",
       "<ol class=list-inline><li>1</li><li>2</li><li>3</li></ol>\n",
       "</li>\n",
       "</ol>\n"
      ],
      "text/latex": [
       "\\begin{enumerate}\n",
       "\\item \\begin{enumerate*}\n",
       "\\item 1\n",
       "\\item 2\n",
       "\\item 3\n",
       "\\end{enumerate*}\n",
       "\n",
       "\\end{enumerate}\n"
      ],
      "text/markdown": [
       "1. 1. 1\n",
       "2. 2\n",
       "3. 3\n",
       "\n",
       "\n",
       "\n",
       "\n",
       "\n"
      ],
      "text/plain": [
       "[[1]]\n",
       "[1] 1 2 3\n"
      ]
     },
     "metadata": {},
     "output_type": "display_data"
    },
    {
     "data": {
      "text/html": [
       "<ol>\n",
       "\t<li>TRUE</li>\n",
       "\t<li>FALSE</li>\n",
       "\t<li>TRUE</li>\n",
       "</ol>\n"
      ],
      "text/latex": [
       "\\begin{enumerate}\n",
       "\\item TRUE\n",
       "\\item FALSE\n",
       "\\item TRUE\n",
       "\\end{enumerate}\n"
      ],
      "text/markdown": [
       "1. TRUE\n",
       "2. FALSE\n",
       "3. TRUE\n",
       "\n",
       "\n"
      ],
      "text/plain": [
       "[[1]]\n",
       "[1] TRUE\n",
       "\n",
       "[[2]]\n",
       "[1] FALSE\n",
       "\n",
       "[[3]]\n",
       "[1] TRUE\n"
      ]
     },
     "metadata": {},
     "output_type": "display_data"
    }
   ],
   "source": [
    "list_1<-list(1,2,3)  \n",
    "list_2<-list(\"Shubham\",\"Arpita\",\"Vaishali\")  \n",
    "list_3<-list(c(1,2,3))  \n",
    "list_4<-list(TRUE,FALSE,TRUE)  \n",
    "list_1  \n",
    "list_2  \n",
    "list_3  \n",
    "list_4  "
   ]
  },
  {
   "cell_type": "code",
   "execution_count": 7,
   "metadata": {},
   "outputs": [
    {
     "name": "stdout",
     "output_type": "stream",
     "text": [
      "[[1]]\n",
      "[1] \"Shubham\"\n",
      "\n",
      "[[2]]\n",
      "[1] \"Arpita\"\n",
      "\n",
      "[[3]]\n",
      "[1] 1 2 3 4 5\n",
      "\n",
      "[[4]]\n",
      "[1] TRUE\n",
      "\n",
      "[[5]]\n",
      "[1] FALSE\n",
      "\n",
      "[[6]]\n",
      "[1] 22.5\n",
      "\n",
      "[[7]]\n",
      "[1] 12\n",
      "\n"
     ]
    }
   ],
   "source": [
    "list_data<-list(\"Shubham\",\"Arpita\",c(1,2,3,4,5),TRUE,FALSE,22.5,12L)  \n",
    "print(list_data)  "
   ]
  },
  {
   "cell_type": "code",
   "execution_count": 8,
   "metadata": {},
   "outputs": [],
   "source": [
    "# Creating a list containing a vector, a matrix and a list.  \n",
    "list_data <- list(c(\"Shubham\",\"Nishka\",\"Gunjan\"), matrix(c(40,80,60,70,90,80), nrow = 2),  \n",
    "list(\"BCA\",\"MCA\",\"B.tech\"))  "
   ]
  },
  {
   "cell_type": "code",
   "execution_count": 9,
   "metadata": {},
   "outputs": [],
   "source": [
    "# Giving names to the elements in the list.  \n",
    "names(list_data) <- c(\"Students\", \"Marks\", \"Course\")  "
   ]
  },
  {
   "cell_type": "code",
   "execution_count": 10,
   "metadata": {},
   "outputs": [
    {
     "name": "stdout",
     "output_type": "stream",
     "text": [
      "$Students\n",
      "[1] \"Shubham\" \"Nishka\"  \"Gunjan\" \n",
      "\n",
      "$Marks\n",
      "     [,1] [,2] [,3]\n",
      "[1,]   40   60   90\n",
      "[2,]   80   70   80\n",
      "\n",
      "$Course\n",
      "$Course[[1]]\n",
      "[1] \"BCA\"\n",
      "\n",
      "$Course[[2]]\n",
      "[1] \"MCA\"\n",
      "\n",
      "$Course[[3]]\n",
      "[1] \"B.tech\"\n",
      "\n",
      "\n"
     ]
    }
   ],
   "source": [
    "# Show the list.  \n",
    "print(list_data)  "
   ]
  },
  {
   "cell_type": "code",
   "execution_count": 11,
   "metadata": {},
   "outputs": [],
   "source": [
    "# Creating a list containing a vector, a matrix and a list.  \n",
    "list_data <- list(c(\"Shubham\",\"Arpita\",\"Nishka\"), matrix(c(40,80,60,70,90,80), nrow = 2),  \n",
    "list(\"BCA\",\"MCA\",\"B.tech\"))  "
   ]
  },
  {
   "cell_type": "code",
   "execution_count": 12,
   "metadata": {},
   "outputs": [
    {
     "name": "stdout",
     "output_type": "stream",
     "text": [
      "[[1]]\n",
      "[1] \"Shubham\" \"Arpita\"  \"Nishka\" \n",
      "\n"
     ]
    }
   ],
   "source": [
    "# Accessing the first element of the list.  \n",
    "print(list_data[1])  "
   ]
  },
  {
   "cell_type": "code",
   "execution_count": 13,
   "metadata": {},
   "outputs": [
    {
     "name": "stdout",
     "output_type": "stream",
     "text": [
      "[[1]]\n",
      "[[1]][[1]]\n",
      "[1] \"BCA\"\n",
      "\n",
      "[[1]][[2]]\n",
      "[1] \"MCA\"\n",
      "\n",
      "[[1]][[3]]\n",
      "[1] \"B.tech\"\n",
      "\n",
      "\n"
     ]
    }
   ],
   "source": [
    "# Accessing the third element. The third element is also a list, so all its elements will be printed.  \n",
    "print(list_data[3])  "
   ]
  },
  {
   "cell_type": "code",
   "execution_count": 14,
   "metadata": {},
   "outputs": [],
   "source": [
    "# Creating a list containing a vector, a matrix and a list.  \n",
    "list_data <- list(c(\"Shubham\",\"Arpita\",\"Nishka\"), matrix(c(40,80,60,70,90,80), nrow = 2),list(\"BCA\",\"MCA\",\"B.tech\"))  "
   ]
  },
  {
   "cell_type": "code",
   "execution_count": 15,
   "metadata": {},
   "outputs": [],
   "source": [
    "# Giving names to the elements in the list.  \n",
    "names(list_data) <- c(\"Student\", \"Marks\", \"Course\")  "
   ]
  },
  {
   "cell_type": "code",
   "execution_count": 16,
   "metadata": {},
   "outputs": [
    {
     "name": "stdout",
     "output_type": "stream",
     "text": [
      "$Student\n",
      "[1] \"Shubham\" \"Arpita\"  \"Nishka\" \n",
      "\n",
      "     [,1] [,2] [,3]\n",
      "[1,]   40   60   90\n",
      "[2,]   80   70   80\n",
      "$Student\n",
      "[1] \"Shubham\" \"Arpita\"  \"Nishka\" \n",
      "\n",
      "$Marks\n",
      "     [,1] [,2] [,3]\n",
      "[1,]   40   60   90\n",
      "[2,]   80   70   80\n",
      "\n",
      "$Course\n",
      "$Course[[1]]\n",
      "[1] \"BCA\"\n",
      "\n",
      "$Course[[2]]\n",
      "[1] \"MCA\"\n",
      "\n",
      "$Course[[3]]\n",
      "[1] \"B.tech\"\n",
      "\n",
      "\n"
     ]
    }
   ],
   "source": [
    "# Accessing the first element of the list.  \n",
    "print(list_data[\"Student\"])  \n",
    "print(list_data$Marks)  \n",
    "print(list_data)  "
   ]
  },
  {
   "cell_type": "code",
   "execution_count": 17,
   "metadata": {},
   "outputs": [],
   "source": [
    "# Creating a list containing a vector, a matrix and a list.  \n",
    "list_data <- list(c(\"Shubham\",\"Arpita\",\"Nishka\"), matrix(c(40,80,60,70,90,80), nrow = 2),  \n",
    "list(\"BCA\",\"MCA\",\"B.tech\"))    "
   ]
  },
  {
   "cell_type": "code",
   "execution_count": 18,
   "metadata": {},
   "outputs": [],
   "source": [
    "# Giving names to the elements in the list.  \n",
    "names(list_data) <- c(\"Student\", \"Marks\", \"Course\")  "
   ]
  },
  {
   "cell_type": "code",
   "execution_count": 19,
   "metadata": {},
   "outputs": [
    {
     "name": "stdout",
     "output_type": "stream",
     "text": [
      "[[1]]\n",
      "[1] \"Moradabad\"\n",
      "\n"
     ]
    }
   ],
   "source": [
    "# Adding element at the end of the list.  \n",
    "list_data[4] <- \"Moradabad\"  \n",
    "print(list_data[4])  "
   ]
  },
  {
   "cell_type": "code",
   "execution_count": 20,
   "metadata": {},
   "outputs": [],
   "source": [
    "# Removing the last element.  \n",
    "list_data[4] <- NULL  "
   ]
  },
  {
   "cell_type": "code",
   "execution_count": 21,
   "metadata": {},
   "outputs": [
    {
     "name": "stdout",
     "output_type": "stream",
     "text": [
      "$<NA>\n",
      "NULL\n",
      "\n"
     ]
    }
   ],
   "source": [
    "# Printing the 4th Element.  \n",
    "print(list_data[4])  "
   ]
  },
  {
   "cell_type": "code",
   "execution_count": 22,
   "metadata": {},
   "outputs": [
    {
     "name": "stdout",
     "output_type": "stream",
     "text": [
      "$Course\n",
      "[1] \"Masters of computer applications\"\n",
      "\n"
     ]
    }
   ],
   "source": [
    "# Updating the 3rd Element.  \n",
    "list_data[3] <- \"Masters of computer applications\"  \n",
    "print(list_data[3])  "
   ]
  },
  {
   "cell_type": "code",
   "execution_count": 24,
   "metadata": {},
   "outputs": [
    {
     "name": "stdout",
     "output_type": "stream",
     "text": [
      "[[1]]\n",
      " [1] 10 11 12 13 14 15 16 17 18 19 20\n",
      "\n"
     ]
    }
   ],
   "source": [
    "# Creating lists.  \n",
    "list1 <- list(10:20)  \n",
    "print(list1)  "
   ]
  },
  {
   "cell_type": "code",
   "execution_count": 25,
   "metadata": {},
   "outputs": [
    {
     "name": "stdout",
     "output_type": "stream",
     "text": [
      "[[1]]\n",
      " [1]  5  6  7  8  9 10 11 12 13 14\n",
      "\n"
     ]
    }
   ],
   "source": [
    "list2 <-list(5:14)  \n",
    "print(list2)  "
   ]
  },
  {
   "cell_type": "code",
   "execution_count": 26,
   "metadata": {},
   "outputs": [],
   "source": [
    "# Converting the lists to vectors.  \n",
    "v1 <- unlist(list1)  \n",
    "v2 <- unlist(list2)  "
   ]
  },
  {
   "cell_type": "code",
   "execution_count": 27,
   "metadata": {},
   "outputs": [
    {
     "name": "stdout",
     "output_type": "stream",
     "text": [
      " [1] 10 11 12 13 14 15 16 17 18 19 20\n",
      " [1]  5  6  7  8  9 10 11 12 13 14\n"
     ]
    }
   ],
   "source": [
    "print(v1)  \n",
    "print(v2)  "
   ]
  },
  {
   "cell_type": "code",
   "execution_count": 28,
   "metadata": {},
   "outputs": [
    {
     "name": "stderr",
     "output_type": "stream",
     "text": [
      "Warning message in v1 + v2:\n",
      "“longer object length is not a multiple of shorter object length”\n"
     ]
    },
    {
     "name": "stdout",
     "output_type": "stream",
     "text": [
      " [1] 15 17 19 21 23 25 27 29 31 33 25\n"
     ]
    }
   ],
   "source": [
    "# adding the vectors  \n",
    "result <- v1+v2  \n",
    "print(result)  "
   ]
  },
  {
   "cell_type": "code",
   "execution_count": 29,
   "metadata": {},
   "outputs": [
    {
     "name": "stdout",
     "output_type": "stream",
     "text": [
      "[[1]]\n",
      "[[1]][[1]]\n",
      "[1] 2\n",
      "\n",
      "[[1]][[2]]\n",
      "[1] 4\n",
      "\n",
      "[[1]][[3]]\n",
      "[1] 6\n",
      "\n",
      "[[1]][[4]]\n",
      "[1] 8\n",
      "\n",
      "[[1]][[5]]\n",
      "[1] 10\n",
      "\n",
      "\n",
      "[[2]]\n",
      "[[2]][[1]]\n",
      "[1] 1\n",
      "\n",
      "[[2]][[2]]\n",
      "[1] 3\n",
      "\n",
      "[[2]][[3]]\n",
      "[1] 5\n",
      "\n",
      "[[2]][[4]]\n",
      "[1] 7\n",
      "\n",
      "[[2]][[5]]\n",
      "[1] 9\n",
      "\n",
      "\n"
     ]
    }
   ],
   "source": [
    "# Creating two lists.  \n",
    "Even_list <- list(2,4,6,8,10)  \n",
    "Odd_list <- list(1,3,5,7,9)  \n",
    "      \n",
    "# Merging the two lists.  \n",
    "merged.list <- list(Even_list,Odd_list)  \n",
    "      \n",
    "# Printing the merged list.  \n",
    "print(merged.list)  "
   ]
  },
  {
   "cell_type": "code",
   "execution_count": null,
   "metadata": {},
   "outputs": [],
   "source": []
  }
 ],
 "metadata": {
  "kernelspec": {
   "display_name": "R",
   "language": "R",
   "name": "ir"
  },
  "language_info": {
   "codemirror_mode": "r",
   "file_extension": ".r",
   "mimetype": "text/x-r-source",
   "name": "R",
   "pygments_lexer": "r",
   "version": "3.6.3"
  }
 },
 "nbformat": 4,
 "nbformat_minor": 4
}
